{
 "cells": [
  {
   "cell_type": "markdown",
   "metadata": {},
   "source": [
    "# Taarifa:Pump it up (Water Supply)\n",
    "\n",
    "The data used here comes from the Taarifa waterpoints dashboard, which aggregates data from the Tanzania Ministry of Water.\n",
    "Our goal is to  predict the operating condition of a waterpoint for each record in the dataset.\n",
    "\n",
    "#### Motivation: An understanding of which waterpoints will fail, can improve maintenance operations and ensure that clean, potable water is available to communities across Tanzania."
   ]
  },
  {
   "cell_type": "code",
   "execution_count": 94,
   "metadata": {
    "collapsed": true
   },
   "outputs": [],
   "source": [
    "import pandas as pd\n",
    "import seaborn as sns\n",
    "import matplotlib.pyplot as plt\n",
    "import numpy as np"
   ]
  },
  {
   "cell_type": "code",
   "execution_count": 95,
   "metadata": {
    "collapsed": true
   },
   "outputs": [],
   "source": [
    "train=pd.read_csv('file:///C:/Users/David/Documents/reservation/checkk/4910797b-ee55-40a7-8668-10efd5c1b960.csv')\n",
    "status=pd.read_csv('file:///C:/Users/David/Documents/reservation/checkk/0bf8bc6e-30d0-4c50-956a-603fc693d966.csv')\n",
    "test=pd.read_csv('file:///C:/Users/David/Documents/reservation/checkk/702ddfc5-68cd-4d1d-a0de-f5f566f76d91.csv')"
   ]
  },
  {
   "cell_type": "code",
   "execution_count": 96,
   "metadata": {},
   "outputs": [
    {
     "data": {
      "text/html": [
       "<div>\n",
       "<style>\n",
       "    .dataframe thead tr:only-child th {\n",
       "        text-align: right;\n",
       "    }\n",
       "\n",
       "    .dataframe thead th {\n",
       "        text-align: left;\n",
       "    }\n",
       "\n",
       "    .dataframe tbody tr th {\n",
       "        vertical-align: top;\n",
       "    }\n",
       "</style>\n",
       "<table border=\"1\" class=\"dataframe\">\n",
       "  <thead>\n",
       "    <tr style=\"text-align: right;\">\n",
       "      <th></th>\n",
       "      <th>id</th>\n",
       "      <th>amount_tsh</th>\n",
       "      <th>date_recorded</th>\n",
       "      <th>funder</th>\n",
       "      <th>gps_height</th>\n",
       "      <th>installer</th>\n",
       "      <th>longitude</th>\n",
       "      <th>latitude</th>\n",
       "      <th>wpt_name</th>\n",
       "      <th>num_private</th>\n",
       "      <th>...</th>\n",
       "      <th>payment_type</th>\n",
       "      <th>water_quality</th>\n",
       "      <th>quality_group</th>\n",
       "      <th>quantity</th>\n",
       "      <th>quantity_group</th>\n",
       "      <th>source</th>\n",
       "      <th>source_type</th>\n",
       "      <th>source_class</th>\n",
       "      <th>waterpoint_type</th>\n",
       "      <th>waterpoint_type_group</th>\n",
       "    </tr>\n",
       "  </thead>\n",
       "  <tbody>\n",
       "    <tr>\n",
       "      <th>0</th>\n",
       "      <td>69572</td>\n",
       "      <td>6000.0</td>\n",
       "      <td>2011-03-14</td>\n",
       "      <td>Roman</td>\n",
       "      <td>1390</td>\n",
       "      <td>Roman</td>\n",
       "      <td>34.938093</td>\n",
       "      <td>-9.856322</td>\n",
       "      <td>none</td>\n",
       "      <td>0</td>\n",
       "      <td>...</td>\n",
       "      <td>annually</td>\n",
       "      <td>soft</td>\n",
       "      <td>good</td>\n",
       "      <td>enough</td>\n",
       "      <td>enough</td>\n",
       "      <td>spring</td>\n",
       "      <td>spring</td>\n",
       "      <td>groundwater</td>\n",
       "      <td>communal standpipe</td>\n",
       "      <td>communal standpipe</td>\n",
       "    </tr>\n",
       "    <tr>\n",
       "      <th>1</th>\n",
       "      <td>8776</td>\n",
       "      <td>0.0</td>\n",
       "      <td>2013-03-06</td>\n",
       "      <td>Grumeti</td>\n",
       "      <td>1399</td>\n",
       "      <td>GRUMETI</td>\n",
       "      <td>34.698766</td>\n",
       "      <td>-2.147466</td>\n",
       "      <td>Zahanati</td>\n",
       "      <td>0</td>\n",
       "      <td>...</td>\n",
       "      <td>never pay</td>\n",
       "      <td>soft</td>\n",
       "      <td>good</td>\n",
       "      <td>insufficient</td>\n",
       "      <td>insufficient</td>\n",
       "      <td>rainwater harvesting</td>\n",
       "      <td>rainwater harvesting</td>\n",
       "      <td>surface</td>\n",
       "      <td>communal standpipe</td>\n",
       "      <td>communal standpipe</td>\n",
       "    </tr>\n",
       "    <tr>\n",
       "      <th>2</th>\n",
       "      <td>34310</td>\n",
       "      <td>25.0</td>\n",
       "      <td>2013-02-25</td>\n",
       "      <td>Lottery Club</td>\n",
       "      <td>686</td>\n",
       "      <td>World vision</td>\n",
       "      <td>37.460664</td>\n",
       "      <td>-3.821329</td>\n",
       "      <td>Kwa Mahundi</td>\n",
       "      <td>0</td>\n",
       "      <td>...</td>\n",
       "      <td>per bucket</td>\n",
       "      <td>soft</td>\n",
       "      <td>good</td>\n",
       "      <td>enough</td>\n",
       "      <td>enough</td>\n",
       "      <td>dam</td>\n",
       "      <td>dam</td>\n",
       "      <td>surface</td>\n",
       "      <td>communal standpipe multiple</td>\n",
       "      <td>communal standpipe</td>\n",
       "    </tr>\n",
       "    <tr>\n",
       "      <th>3</th>\n",
       "      <td>67743</td>\n",
       "      <td>0.0</td>\n",
       "      <td>2013-01-28</td>\n",
       "      <td>Unicef</td>\n",
       "      <td>263</td>\n",
       "      <td>UNICEF</td>\n",
       "      <td>38.486161</td>\n",
       "      <td>-11.155298</td>\n",
       "      <td>Zahanati Ya Nanyumbu</td>\n",
       "      <td>0</td>\n",
       "      <td>...</td>\n",
       "      <td>never pay</td>\n",
       "      <td>soft</td>\n",
       "      <td>good</td>\n",
       "      <td>dry</td>\n",
       "      <td>dry</td>\n",
       "      <td>machine dbh</td>\n",
       "      <td>borehole</td>\n",
       "      <td>groundwater</td>\n",
       "      <td>communal standpipe multiple</td>\n",
       "      <td>communal standpipe</td>\n",
       "    </tr>\n",
       "    <tr>\n",
       "      <th>4</th>\n",
       "      <td>19728</td>\n",
       "      <td>0.0</td>\n",
       "      <td>2011-07-13</td>\n",
       "      <td>Action In A</td>\n",
       "      <td>0</td>\n",
       "      <td>Artisan</td>\n",
       "      <td>31.130847</td>\n",
       "      <td>-1.825359</td>\n",
       "      <td>Shuleni</td>\n",
       "      <td>0</td>\n",
       "      <td>...</td>\n",
       "      <td>never pay</td>\n",
       "      <td>soft</td>\n",
       "      <td>good</td>\n",
       "      <td>seasonal</td>\n",
       "      <td>seasonal</td>\n",
       "      <td>rainwater harvesting</td>\n",
       "      <td>rainwater harvesting</td>\n",
       "      <td>surface</td>\n",
       "      <td>communal standpipe</td>\n",
       "      <td>communal standpipe</td>\n",
       "    </tr>\n",
       "  </tbody>\n",
       "</table>\n",
       "<p>5 rows × 40 columns</p>\n",
       "</div>"
      ],
      "text/plain": [
       "      id  amount_tsh date_recorded        funder  gps_height     installer  \\\n",
       "0  69572      6000.0    2011-03-14         Roman        1390         Roman   \n",
       "1   8776         0.0    2013-03-06       Grumeti        1399       GRUMETI   \n",
       "2  34310        25.0    2013-02-25  Lottery Club         686  World vision   \n",
       "3  67743         0.0    2013-01-28        Unicef         263        UNICEF   \n",
       "4  19728         0.0    2011-07-13   Action In A           0       Artisan   \n",
       "\n",
       "   longitude   latitude              wpt_name  num_private  \\\n",
       "0  34.938093  -9.856322                  none            0   \n",
       "1  34.698766  -2.147466              Zahanati            0   \n",
       "2  37.460664  -3.821329           Kwa Mahundi            0   \n",
       "3  38.486161 -11.155298  Zahanati Ya Nanyumbu            0   \n",
       "4  31.130847  -1.825359               Shuleni            0   \n",
       "\n",
       "           ...          payment_type water_quality quality_group  \\\n",
       "0          ...              annually          soft          good   \n",
       "1          ...             never pay          soft          good   \n",
       "2          ...            per bucket          soft          good   \n",
       "3          ...             never pay          soft          good   \n",
       "4          ...             never pay          soft          good   \n",
       "\n",
       "       quantity  quantity_group                source           source_type  \\\n",
       "0        enough          enough                spring                spring   \n",
       "1  insufficient    insufficient  rainwater harvesting  rainwater harvesting   \n",
       "2        enough          enough                   dam                   dam   \n",
       "3           dry             dry           machine dbh              borehole   \n",
       "4      seasonal        seasonal  rainwater harvesting  rainwater harvesting   \n",
       "\n",
       "   source_class              waterpoint_type waterpoint_type_group  \n",
       "0   groundwater           communal standpipe    communal standpipe  \n",
       "1       surface           communal standpipe    communal standpipe  \n",
       "2       surface  communal standpipe multiple    communal standpipe  \n",
       "3   groundwater  communal standpipe multiple    communal standpipe  \n",
       "4       surface           communal standpipe    communal standpipe  \n",
       "\n",
       "[5 rows x 40 columns]"
      ]
     },
     "execution_count": 96,
     "metadata": {},
     "output_type": "execute_result"
    }
   ],
   "source": [
    "train.head()"
   ]
  },
  {
   "cell_type": "code",
   "execution_count": 97,
   "metadata": {},
   "outputs": [
    {
     "data": {
      "text/html": [
       "<div>\n",
       "<style>\n",
       "    .dataframe thead tr:only-child th {\n",
       "        text-align: right;\n",
       "    }\n",
       "\n",
       "    .dataframe thead th {\n",
       "        text-align: left;\n",
       "    }\n",
       "\n",
       "    .dataframe tbody tr th {\n",
       "        vertical-align: top;\n",
       "    }\n",
       "</style>\n",
       "<table border=\"1\" class=\"dataframe\">\n",
       "  <thead>\n",
       "    <tr style=\"text-align: right;\">\n",
       "      <th></th>\n",
       "      <th>id</th>\n",
       "      <th>status_group</th>\n",
       "    </tr>\n",
       "  </thead>\n",
       "  <tbody>\n",
       "    <tr>\n",
       "      <th>0</th>\n",
       "      <td>69572</td>\n",
       "      <td>functional</td>\n",
       "    </tr>\n",
       "    <tr>\n",
       "      <th>1</th>\n",
       "      <td>8776</td>\n",
       "      <td>functional</td>\n",
       "    </tr>\n",
       "    <tr>\n",
       "      <th>2</th>\n",
       "      <td>34310</td>\n",
       "      <td>functional</td>\n",
       "    </tr>\n",
       "    <tr>\n",
       "      <th>3</th>\n",
       "      <td>67743</td>\n",
       "      <td>non functional</td>\n",
       "    </tr>\n",
       "    <tr>\n",
       "      <th>4</th>\n",
       "      <td>19728</td>\n",
       "      <td>functional</td>\n",
       "    </tr>\n",
       "  </tbody>\n",
       "</table>\n",
       "</div>"
      ],
      "text/plain": [
       "      id    status_group\n",
       "0  69572      functional\n",
       "1   8776      functional\n",
       "2  34310      functional\n",
       "3  67743  non functional\n",
       "4  19728      functional"
      ]
     },
     "execution_count": 97,
     "metadata": {},
     "output_type": "execute_result"
    }
   ],
   "source": [
    "status.head()"
   ]
  },
  {
   "cell_type": "code",
   "execution_count": 98,
   "metadata": {},
   "outputs": [
    {
     "data": {
      "text/plain": [
       "functional                 32259\n",
       "non functional             22824\n",
       "functional needs repair     4317\n",
       "Name: status_group, dtype: int64"
      ]
     },
     "execution_count": 98,
     "metadata": {},
     "output_type": "execute_result"
    }
   ],
   "source": [
    "status.status_group.value_counts()"
   ]
  },
  {
   "cell_type": "code",
   "execution_count": 99,
   "metadata": {},
   "outputs": [
    {
     "data": {
      "text/plain": [
       "Index(['id', 'amount_tsh', 'date_recorded', 'funder', 'gps_height',\n",
       "       'installer', 'longitude', 'latitude', 'wpt_name', 'num_private',\n",
       "       'basin', 'subvillage', 'region', 'region_code', 'district_code', 'lga',\n",
       "       'ward', 'population', 'public_meeting', 'recorded_by',\n",
       "       'scheme_management', 'scheme_name', 'permit', 'construction_year',\n",
       "       'extraction_type', 'extraction_type_group', 'extraction_type_class',\n",
       "       'management', 'management_group', 'payment', 'payment_type',\n",
       "       'water_quality', 'quality_group', 'quantity', 'quantity_group',\n",
       "       'source', 'source_type', 'source_class', 'waterpoint_type',\n",
       "       'waterpoint_type_group'],\n",
       "      dtype='object')"
      ]
     },
     "execution_count": 99,
     "metadata": {},
     "output_type": "execute_result"
    }
   ],
   "source": [
    "train.columns"
   ]
  },
  {
   "cell_type": "markdown",
   "metadata": {},
   "source": [
    "Adding the status data to train data."
   ]
  },
  {
   "cell_type": "code",
   "execution_count": 100,
   "metadata": {
    "collapsed": true
   },
   "outputs": [],
   "source": [
    "funct=status.status_group=='functional'\n",
    "non_funct=status.status_group=='non functional'\n",
    "repair=status.status_group=='functional needs repair'\n",
    "funct=status[funct]\n",
    "non_funct=status[non_funct]\n",
    "repair=status[repair]\n",
    "funct=list(funct['id'])\n",
    "non_funct=list(non_funct['id'])\n",
    "repair=list(repair['id'])\n",
    "train['status']='none'\n",
    "train.loc[(train.id.isin(funct)),'status']='functional'\n",
    "train.loc[(train.id.isin(non_funct)),'status']='non functional'\n",
    "train.loc[(train.id.isin(repair)),'status']='functional needs repair'"
   ]
  },
  {
   "cell_type": "code",
   "execution_count": 101,
   "metadata": {},
   "outputs": [
    {
     "data": {
      "text/html": [
       "<div>\n",
       "<style>\n",
       "    .dataframe thead tr:only-child th {\n",
       "        text-align: right;\n",
       "    }\n",
       "\n",
       "    .dataframe thead th {\n",
       "        text-align: left;\n",
       "    }\n",
       "\n",
       "    .dataframe tbody tr th {\n",
       "        vertical-align: top;\n",
       "    }\n",
       "</style>\n",
       "<table border=\"1\" class=\"dataframe\">\n",
       "  <thead>\n",
       "    <tr style=\"text-align: right;\">\n",
       "      <th></th>\n",
       "      <th>id</th>\n",
       "      <th>amount_tsh</th>\n",
       "      <th>gps_height</th>\n",
       "      <th>longitude</th>\n",
       "      <th>latitude</th>\n",
       "      <th>num_private</th>\n",
       "      <th>region_code</th>\n",
       "      <th>district_code</th>\n",
       "      <th>population</th>\n",
       "      <th>construction_year</th>\n",
       "    </tr>\n",
       "  </thead>\n",
       "  <tbody>\n",
       "    <tr>\n",
       "      <th>count</th>\n",
       "      <td>59400.000000</td>\n",
       "      <td>59400.000000</td>\n",
       "      <td>59400.000000</td>\n",
       "      <td>59400.000000</td>\n",
       "      <td>5.940000e+04</td>\n",
       "      <td>59400.000000</td>\n",
       "      <td>59400.000000</td>\n",
       "      <td>59400.000000</td>\n",
       "      <td>59400.000000</td>\n",
       "      <td>59400.000000</td>\n",
       "    </tr>\n",
       "    <tr>\n",
       "      <th>mean</th>\n",
       "      <td>37115.131768</td>\n",
       "      <td>317.650385</td>\n",
       "      <td>668.297239</td>\n",
       "      <td>34.077427</td>\n",
       "      <td>-5.706033e+00</td>\n",
       "      <td>0.474141</td>\n",
       "      <td>15.297003</td>\n",
       "      <td>5.629747</td>\n",
       "      <td>179.909983</td>\n",
       "      <td>1300.652475</td>\n",
       "    </tr>\n",
       "    <tr>\n",
       "      <th>std</th>\n",
       "      <td>21453.128371</td>\n",
       "      <td>2997.574558</td>\n",
       "      <td>693.116350</td>\n",
       "      <td>6.567432</td>\n",
       "      <td>2.946019e+00</td>\n",
       "      <td>12.236230</td>\n",
       "      <td>17.587406</td>\n",
       "      <td>9.633649</td>\n",
       "      <td>471.482176</td>\n",
       "      <td>951.620547</td>\n",
       "    </tr>\n",
       "    <tr>\n",
       "      <th>min</th>\n",
       "      <td>0.000000</td>\n",
       "      <td>0.000000</td>\n",
       "      <td>-90.000000</td>\n",
       "      <td>0.000000</td>\n",
       "      <td>-1.164944e+01</td>\n",
       "      <td>0.000000</td>\n",
       "      <td>1.000000</td>\n",
       "      <td>0.000000</td>\n",
       "      <td>0.000000</td>\n",
       "      <td>0.000000</td>\n",
       "    </tr>\n",
       "    <tr>\n",
       "      <th>25%</th>\n",
       "      <td>18519.750000</td>\n",
       "      <td>0.000000</td>\n",
       "      <td>0.000000</td>\n",
       "      <td>33.090347</td>\n",
       "      <td>-8.540621e+00</td>\n",
       "      <td>0.000000</td>\n",
       "      <td>5.000000</td>\n",
       "      <td>2.000000</td>\n",
       "      <td>0.000000</td>\n",
       "      <td>0.000000</td>\n",
       "    </tr>\n",
       "    <tr>\n",
       "      <th>50%</th>\n",
       "      <td>37061.500000</td>\n",
       "      <td>0.000000</td>\n",
       "      <td>369.000000</td>\n",
       "      <td>34.908743</td>\n",
       "      <td>-5.021597e+00</td>\n",
       "      <td>0.000000</td>\n",
       "      <td>12.000000</td>\n",
       "      <td>3.000000</td>\n",
       "      <td>25.000000</td>\n",
       "      <td>1986.000000</td>\n",
       "    </tr>\n",
       "    <tr>\n",
       "      <th>75%</th>\n",
       "      <td>55656.500000</td>\n",
       "      <td>20.000000</td>\n",
       "      <td>1319.250000</td>\n",
       "      <td>37.178387</td>\n",
       "      <td>-3.326156e+00</td>\n",
       "      <td>0.000000</td>\n",
       "      <td>17.000000</td>\n",
       "      <td>5.000000</td>\n",
       "      <td>215.000000</td>\n",
       "      <td>2004.000000</td>\n",
       "    </tr>\n",
       "    <tr>\n",
       "      <th>max</th>\n",
       "      <td>74247.000000</td>\n",
       "      <td>350000.000000</td>\n",
       "      <td>2770.000000</td>\n",
       "      <td>40.345193</td>\n",
       "      <td>-2.000000e-08</td>\n",
       "      <td>1776.000000</td>\n",
       "      <td>99.000000</td>\n",
       "      <td>80.000000</td>\n",
       "      <td>30500.000000</td>\n",
       "      <td>2013.000000</td>\n",
       "    </tr>\n",
       "  </tbody>\n",
       "</table>\n",
       "</div>"
      ],
      "text/plain": [
       "                 id     amount_tsh    gps_height     longitude      latitude  \\\n",
       "count  59400.000000   59400.000000  59400.000000  59400.000000  5.940000e+04   \n",
       "mean   37115.131768     317.650385    668.297239     34.077427 -5.706033e+00   \n",
       "std    21453.128371    2997.574558    693.116350      6.567432  2.946019e+00   \n",
       "min        0.000000       0.000000    -90.000000      0.000000 -1.164944e+01   \n",
       "25%    18519.750000       0.000000      0.000000     33.090347 -8.540621e+00   \n",
       "50%    37061.500000       0.000000    369.000000     34.908743 -5.021597e+00   \n",
       "75%    55656.500000      20.000000   1319.250000     37.178387 -3.326156e+00   \n",
       "max    74247.000000  350000.000000   2770.000000     40.345193 -2.000000e-08   \n",
       "\n",
       "        num_private   region_code  district_code    population  \\\n",
       "count  59400.000000  59400.000000   59400.000000  59400.000000   \n",
       "mean       0.474141     15.297003       5.629747    179.909983   \n",
       "std       12.236230     17.587406       9.633649    471.482176   \n",
       "min        0.000000      1.000000       0.000000      0.000000   \n",
       "25%        0.000000      5.000000       2.000000      0.000000   \n",
       "50%        0.000000     12.000000       3.000000     25.000000   \n",
       "75%        0.000000     17.000000       5.000000    215.000000   \n",
       "max     1776.000000     99.000000      80.000000  30500.000000   \n",
       "\n",
       "       construction_year  \n",
       "count       59400.000000  \n",
       "mean         1300.652475  \n",
       "std           951.620547  \n",
       "min             0.000000  \n",
       "25%             0.000000  \n",
       "50%          1986.000000  \n",
       "75%          2004.000000  \n",
       "max          2013.000000  "
      ]
     },
     "execution_count": 101,
     "metadata": {},
     "output_type": "execute_result"
    }
   ],
   "source": [
    "train.describe()"
   ]
  },
  {
   "cell_type": "code",
   "execution_count": 102,
   "metadata": {},
   "outputs": [
    {
     "data": {
      "text/plain": [
       "id                           0\n",
       "amount_tsh                   0\n",
       "date_recorded                0\n",
       "funder                    3635\n",
       "gps_height                   0\n",
       "installer                 3655\n",
       "longitude                    0\n",
       "latitude                     0\n",
       "wpt_name                     0\n",
       "num_private                  0\n",
       "basin                        0\n",
       "subvillage                 371\n",
       "region                       0\n",
       "region_code                  0\n",
       "district_code                0\n",
       "lga                          0\n",
       "ward                         0\n",
       "population                   0\n",
       "public_meeting            3334\n",
       "recorded_by                  0\n",
       "scheme_management         3877\n",
       "scheme_name              28166\n",
       "permit                    3056\n",
       "construction_year            0\n",
       "extraction_type              0\n",
       "extraction_type_group        0\n",
       "extraction_type_class        0\n",
       "management                   0\n",
       "management_group             0\n",
       "payment                      0\n",
       "payment_type                 0\n",
       "water_quality                0\n",
       "quality_group                0\n",
       "quantity                     0\n",
       "quantity_group               0\n",
       "source                       0\n",
       "source_type                  0\n",
       "source_class                 0\n",
       "waterpoint_type              0\n",
       "waterpoint_type_group        0\n",
       "status                       0\n",
       "dtype: int64"
      ]
     },
     "execution_count": 102,
     "metadata": {},
     "output_type": "execute_result"
    }
   ],
   "source": [
    "train.isnull().sum()"
   ]
  },
  {
   "cell_type": "code",
   "execution_count": 103,
   "metadata": {},
   "outputs": [
    {
     "data": {
      "text/plain": [
       "DWE                           17402\n",
       "Government                     1825\n",
       "RWE                            1206\n",
       "Commu                          1060\n",
       "DANIDA                         1050\n",
       "KKKT                            898\n",
       "Hesawa                          840\n",
       "0                               777\n",
       "TCRS                            707\n",
       "Central government              622\n",
       "CES                             610\n",
       "Community                       553\n",
       "DANID                           552\n",
       "District Council                551\n",
       "HESAWA                          539\n",
       "LGA                             408\n",
       "World vision                    408\n",
       "WEDECO                          397\n",
       "TASAF                           396\n",
       "District council                392\n",
       "Gover                           383\n",
       "AMREF                           329\n",
       "TWESA                           316\n",
       "WU                              301\n",
       "Dmdd                            287\n",
       "ACRA                            278\n",
       "World Vision                    270\n",
       "SEMA                            249\n",
       "DW                              246\n",
       "OXFAM                           234\n",
       "                              ...  \n",
       "Cetral government /RC             1\n",
       "world vision                      1\n",
       "Eastmeru medium School            1\n",
       "NGO'S                             1\n",
       "MACK DONALD CO LTD                1\n",
       "SAXON  BUILDING CONTRACTOR        1\n",
       "Mosqure                           1\n",
       "KAYEMPU LTD                       1\n",
       "SIMBA LODGE                       1\n",
       "Cida                              1\n",
       "SUMO                              1\n",
       "Kanisani                          1\n",
       "Britain                           1\n",
       "Private Technician                1\n",
       "Meru Concrete                     1\n",
       "MOSQUE                            1\n",
       "hesaw                             1\n",
       "Total Landcare                    1\n",
       "MKONGO BUILDING CONTRACTOR        1\n",
       "PRIVATE INSTITUTIONS              1\n",
       "Adam Kea                          1\n",
       "Shule ya sekondari Ipuli          1\n",
       "peter                             1\n",
       "Segera Estate                     1\n",
       "SAXON BUILDING CONTRACTORS        1\n",
       "S.P.C Pre-primary School          1\n",
       "Nerthlands                        1\n",
       "Nyakilanganyi                     1\n",
       "Wilson                            1\n",
       "Institutional                     1\n",
       "Name: installer, Length: 2145, dtype: int64"
      ]
     },
     "execution_count": 103,
     "metadata": {},
     "output_type": "execute_result"
    }
   ],
   "source": [
    "train.installer.value_counts()"
   ]
  },
  {
   "cell_type": "code",
   "execution_count": 104,
   "metadata": {},
   "outputs": [
    {
     "data": {
      "image/png": "[encoded data removed]",
      "text/plain": [
       "<matplotlib.figure.Figure at 0x23582da1470>"
      ]
     },
     "metadata": {},
     "output_type": "display_data"
    }
   ],
   "source": [
    "f,ax=plt.subplots(nrows=1,figsize=(15,8))\n",
    "sns.heatmap(train.corr(),annot=True,cmap='viridis',ax=ax)\n",
    "ax.set_title('Correlation of Features')\n",
    "plt.show()"
   ]
  },
  {
   "cell_type": "code",
   "execution_count": 105,
   "metadata": {
    "collapsed": true
   },
   "outputs": [],
   "source": [
    "train['date']=pd.to_datetime(train.date_recorded)\n",
    "test['date']=pd.to_datetime(test.date_recorded)\n",
    "train['year']=train.date.dt.year\n",
    "train['month']=train.date.dt.month\n",
    "train['day_of_week']=train.date.dt.dayofweek\n",
    "test['year']=test.date.dt.year\n",
    "test['month']=test.date.dt.month\n",
    "test['day_of_week']=test.date.dt.dayofweek\n",
    "train.drop('date_recorded',inplace=True,axis=1)\n",
    "test.drop('date_recorded',inplace=True,axis=1)"
   ]
  },
  {
   "cell_type": "code",
   "execution_count": 106,
   "metadata": {},
   "outputs": [
    {
     "name": "stderr",
     "output_type": "stream",
     "text": [
      "100%|██████████████████████████████████████████████████████████████████████████████████| 29/29 [00:07<00:00,  3.66it/s]\n"
     ]
    },
    {
     "data": {
      "text/plain": [
       "19835"
      ]
     },
     "execution_count": 106,
     "metadata": {},
     "output_type": "execute_result"
    }
   ],
   "source": [
    "from sklearn.preprocessing import LabelEncoder\n",
    "from tqdm import tqdm\n",
    "import gc\n",
    "df_all=pd.concat([train,test],axis=0)\n",
    "cols=train.select_dtypes(include=['object']).columns\n",
    "cols=['funder', 'installer', 'wpt_name', 'basin', 'subvillage', 'region',\n",
    "       'lga', 'ward', 'public_meeting', 'recorded_by', 'scheme_management',\n",
    "       'scheme_name', 'permit', 'extraction_type', 'extraction_type_group',\n",
    "       'extraction_type_class', 'management', 'management_group', 'payment',\n",
    "       'payment_type', 'water_quality', 'quality_group', 'quantity',\n",
    "       'quantity_group', 'source', 'source_type', 'source_class',\n",
    "       'waterpoint_type', 'waterpoint_type_group']\n",
    "for i in tqdm(cols):\n",
    "    le=LabelEncoder()\n",
    "    le.fit(df_all[i].astype(str))\n",
    "    train[i]=le.transform(train[i].astype(str))\n",
    "    test[i]=le.transform(test[i].astype(str))\n",
    "del df_all;gc.collect()"
   ]
  },
  {
   "cell_type": "code",
   "execution_count": 107,
   "metadata": {},
   "outputs": [],
   "source": [
    "from sklearn.model_selection import train_test_split, cross_val_score,KFold\n",
    "from sklearn.svm import SVC\n",
    "from sklearn.ensemble import RandomForestClassifier\n",
    "import xgboost as xgb\n",
    "import lightgbm as lgb\n",
    "params = { 'objective': 'binary:logistic',\n",
    "            'eval_metric':['rmse','auc'],\n",
    "            'eta' :0.02,\n",
    "            'max_depth': 4,\n",
    "            'min_child_weight': 5,\n",
    "            'subsample': 0.8,\n",
    "            'colsample_bytree': 0.7}\n",
    "Y=train['status']\n",
    "idd=test['id']\n",
    "X=train.drop(['status','date','id'],axis=1)\n",
    "test.drop(['date','id'],inplace=True,axis=1)\n",
    "x_train, x_valid, y_train, y_valid = train_test_split(X,Y, test_size=0.2, random_state=42)\n",
    "\n"
   ]
  },
  {
   "cell_type": "markdown",
   "metadata": {},
   "source": [
    "#### Predicting using XGBCLASSIFIER"
   ]
  },
  {
   "cell_type": "code",
   "execution_count": 118,
   "metadata": {},
   "outputs": [],
   "source": [
    "bst = xgb.XGBClassifier(max_depth=7,learning_rate=0.2,n_estimators=5000,subsample=0.8,colsample_bytree=0.7,seed=1000)\n",
    "bst.fit(x_train,y_train)\n",
    "predict=bst.predict(test)"
   ]
  },
  {
   "cell_type": "code",
   "execution_count": 119,
   "metadata": {},
   "outputs": [
    {
     "name": "stdout",
     "output_type": "stream",
     "text": [
      "XGB Classifier:  0.792613637139\n"
     ]
    }
   ],
   "source": [
    "print('XGB Classifier: ',cross_val_score(bst, x_train, y_train).mean())"
   ]
  },
  {
   "cell_type": "markdown",
   "metadata": {},
   "source": [
    "#### Prediciting using Xgboost(Logisitic Regression)"
   ]
  },
  {
   "cell_type": "code",
   "execution_count": 124,
   "metadata": {
    "collapsed": true
   },
   "outputs": [],
   "source": [
    "train.loc[(train['status']=='functional'),'status']=1\n",
    "train.loc[(train['status']=='functional needs repair'),'status']=0.5\n",
    "train.loc[(train['status']=='non functional'),'status']=0\n",
    "x_train, x_valid, y_train, y_valid = train_test_split(X,Y, test_size=0.2, random_state=42)"
   ]
  },
  {
   "cell_type": "code",
   "execution_count": 125,
   "metadata": {},
   "outputs": [
    {
     "name": "stdout",
     "output_type": "stream",
     "text": [
      "[0]\ttrain-rmse:0.478469\ttrain-auc:0.756957\tvalid-rmse:0.47881\tvalid-auc:0.758299\n",
      "Multiple eval metrics have been passed: 'valid-auc' will be used for early stopping.\n",
      "\n",
      "Will train until valid-auc hasn't improved in 999 rounds.\n",
      "[10]\ttrain-rmse:0.455037\ttrain-auc:0.793596\tvalid-rmse:0.455435\tvalid-auc:0.795208\n",
      "[20]\ttrain-rmse:0.437256\ttrain-auc:0.794717\tvalid-rmse:0.437761\tvalid-auc:0.794726\n",
      "[30]\ttrain-rmse:0.42373\ttrain-auc:0.801569\tvalid-rmse:0.424342\tvalid-auc:0.802087\n",
      "[40]\ttrain-rmse:0.414218\ttrain-auc:0.804145\tvalid-rmse:0.414928\tvalid-auc:0.804426\n",
      "[50]\ttrain-rmse:0.406795\ttrain-auc:0.808248\tvalid-rmse:0.407685\tvalid-auc:0.807399\n",
      "[60]\ttrain-rmse:0.401521\ttrain-auc:0.809654\tvalid-rmse:0.402502\tvalid-auc:0.808849\n",
      "[70]\ttrain-rmse:0.396913\ttrain-auc:0.814319\tvalid-rmse:0.397988\tvalid-auc:0.813193\n",
      "[80]\ttrain-rmse:0.39317\ttrain-auc:0.819025\tvalid-rmse:0.394406\tvalid-auc:0.817221\n",
      "[90]\ttrain-rmse:0.39006\ttrain-auc:0.822159\tvalid-rmse:0.391372\tvalid-auc:0.820476\n",
      "[100]\ttrain-rmse:0.387427\ttrain-auc:0.825026\tvalid-rmse:0.388797\tvalid-auc:0.823338\n",
      "[110]\ttrain-rmse:0.385391\ttrain-auc:0.826625\tvalid-rmse:0.386894\tvalid-auc:0.82436\n",
      "[120]\ttrain-rmse:0.383287\ttrain-auc:0.829313\tvalid-rmse:0.384801\tvalid-auc:0.827173\n",
      "[130]\ttrain-rmse:0.381602\ttrain-auc:0.831185\tvalid-rmse:0.383271\tvalid-auc:0.828579\n",
      "[140]\ttrain-rmse:0.38\ttrain-auc:0.832909\tvalid-rmse:0.381699\tvalid-auc:0.830268\n",
      "[150]\ttrain-rmse:0.378272\ttrain-auc:0.835362\tvalid-rmse:0.380062\tvalid-auc:0.832552\n",
      "[160]\ttrain-rmse:0.376571\ttrain-auc:0.83766\tvalid-rmse:0.378495\tvalid-auc:0.834427\n",
      "[170]\ttrain-rmse:0.375219\ttrain-auc:0.83913\tvalid-rmse:0.377173\tvalid-auc:0.835983\n",
      "[180]\ttrain-rmse:0.373886\ttrain-auc:0.840565\tvalid-rmse:0.375939\tvalid-auc:0.837193\n",
      "[190]\ttrain-rmse:0.372588\ttrain-auc:0.842163\tvalid-rmse:0.374723\tvalid-auc:0.838713\n",
      "[200]\ttrain-rmse:0.371417\ttrain-auc:0.843798\tvalid-rmse:0.373536\tvalid-auc:0.840459\n",
      "[210]\ttrain-rmse:0.370246\ttrain-auc:0.84534\tvalid-rmse:0.372443\tvalid-auc:0.841885\n",
      "[220]\ttrain-rmse:0.369092\ttrain-auc:0.846732\tvalid-rmse:0.371388\tvalid-auc:0.843136\n",
      "[230]\ttrain-rmse:0.368108\ttrain-auc:0.847972\tvalid-rmse:0.370462\tvalid-auc:0.844282\n",
      "[240]\ttrain-rmse:0.36708\ttrain-auc:0.849178\tvalid-rmse:0.369517\tvalid-auc:0.845305\n",
      "[250]\ttrain-rmse:0.366001\ttrain-auc:0.850748\tvalid-rmse:0.368496\tvalid-auc:0.846843\n",
      "[260]\ttrain-rmse:0.36497\ttrain-auc:0.852325\tvalid-rmse:0.367556\tvalid-auc:0.848247\n",
      "[270]\ttrain-rmse:0.364132\ttrain-auc:0.85336\tvalid-rmse:0.366761\tvalid-auc:0.849218\n",
      "[280]\ttrain-rmse:0.363031\ttrain-auc:0.854969\tvalid-rmse:0.365643\tvalid-auc:0.850852\n",
      "[290]\ttrain-rmse:0.362057\ttrain-auc:0.856381\tvalid-rmse:0.364795\tvalid-auc:0.852007\n",
      "[300]\ttrain-rmse:0.361255\ttrain-auc:0.857499\tvalid-rmse:0.364063\tvalid-auc:0.85306\n",
      "[310]\ttrain-rmse:0.360554\ttrain-auc:0.858384\tvalid-rmse:0.363437\tvalid-auc:0.853848\n",
      "[320]\ttrain-rmse:0.359799\ttrain-auc:0.859562\tvalid-rmse:0.362752\tvalid-auc:0.854955\n",
      "[330]\ttrain-rmse:0.359222\ttrain-auc:0.860391\tvalid-rmse:0.362246\tvalid-auc:0.855679\n",
      "[340]\ttrain-rmse:0.358576\ttrain-auc:0.861204\tvalid-rmse:0.361643\tvalid-auc:0.856385\n",
      "[350]\ttrain-rmse:0.357765\ttrain-auc:0.862193\tvalid-rmse:0.360942\tvalid-auc:0.857127\n",
      "[360]\ttrain-rmse:0.357132\ttrain-auc:0.862991\tvalid-rmse:0.360368\tvalid-auc:0.857835\n",
      "[370]\ttrain-rmse:0.356478\ttrain-auc:0.86379\tvalid-rmse:0.359803\tvalid-auc:0.858494\n",
      "[380]\ttrain-rmse:0.355835\ttrain-auc:0.86454\tvalid-rmse:0.35926\tvalid-auc:0.859066\n",
      "[390]\ttrain-rmse:0.355285\ttrain-auc:0.865264\tvalid-rmse:0.358762\tvalid-auc:0.859675\n"
     ]
    }
   ],
   "source": [
    "d_train = xgb.DMatrix(x_train, label=y_train)\n",
    "d_valid = xgb.DMatrix(x_valid, label=y_valid)\n",
    "watchlist = [(d_train, 'train'), (d_valid, 'valid')]\n",
    "bst = xgb.train(params, d_train, 400, watchlist, early_stopping_rounds=999, verbose_eval=10)\n"
   ]
  },
  {
   "cell_type": "code",
   "execution_count": 163,
   "metadata": {
    "collapsed": true
   },
   "outputs": [],
   "source": [
    "d_test = xgb.DMatrix(test)\n",
    "reg_predict = bst.predict(d_test)"
   ]
  },
  {
   "cell_type": "code",
   "execution_count": 164,
   "metadata": {},
   "outputs": [
    {
     "data": {
      "text/plain": [
       "array([ 0.51,  0.68,  0.59, ...,  0.88,  0.83,  0.05], dtype=float32)"
      ]
     },
     "execution_count": 164,
     "metadata": {},
     "output_type": "execute_result"
    }
   ],
   "source": [
    "np.set_printoptions(precision=2)\n",
    "reg_predict"
   ]
  },
  {
   "cell_type": "code",
   "execution_count": 169,
   "metadata": {},
   "outputs": [],
   "source": [
    "reg_sub=pd.DataFrame()\n",
    "reg_sub['id']=idd\n",
    "reg_sub['status_group']=reg_predict\n",
    "reg_sub['st']=0\n",
    "reg_sub.loc[(reg_sub['status_group']>=0) & (reg_sub['status_group']<=0.49)  ,'st']='non functional'\n",
    "reg_sub.loc[(reg_sub['status_group']>=0.60) & (reg_sub['status_group']<=1),'st']='functional'\n",
    "reg_sub.loc[(reg_sub['status_group']>=0.5) & (reg_sub['status_group']<=0.59) ,'st']='functional needs repair'\n",
    "reg_sub.to_csv('reg_sub.csv')"
   ]
  },
  {
   "cell_type": "code",
   "execution_count": 170,
   "metadata": {},
   "outputs": [],
   "source": [
    "sub=pd.DataFrame()\n",
    "sub['id']=idd\n",
    "sub['status_group']=predict\n",
    "sub.to_csv('watersubB.csv')"
   ]
  },
  {
   "cell_type": "code",
   "execution_count": 171,
   "metadata": {},
   "outputs": [
    {
     "name": "stderr",
     "output_type": "stream",
     "text": [
      "Exception ignored in: <bound method DMatrix.__del__ of <xgboost.core.DMatrix object at 0x0000023582B4A208>>\n",
      "Traceback (most recent call last):\n",
      "  File \"C:\\Users\\David\\Anacondaa3\\lib\\site-packages\\xgboost\\core.py\", line 324, in __del__\n",
      "    _check_call(_LIB.XGDMatrixFree(self.handle))\n",
      "AttributeError: 'DMatrix' object has no attribute 'handle'\n"
     ]
    },
    {
     "data": {
      "image/png": "[encoded data removed]",
      "text/plain": [
       "<matplotlib.figure.Figure at 0x23584242c88>"
      ]
     },
     "metadata": {},
     "output_type": "display_data"
    }
   ],
   "source": [
    "f,ax=plt.subplots(figsize=(10,7))\n",
    "xgb.plot_importance(bst,height=1.6,ax=ax)\n",
    "plt.show()"
   ]
  },
  {
   "cell_type": "markdown",
   "metadata": {},
   "source": [
    "#### We noticed here, the importance of the location(latitude and longtitude) played an important part in the xgboost decisions."
   ]
  }
 ],
 "metadata": {
  "kernelspec": {
   "display_name": "Python 3",
   "language": "python",
   "name": "python3"
  },
  "language_info": {
   "codemirror_mode": {
    "name": "ipython",
    "version": 3
   },
   "file_extension": ".py",
   "mimetype": "text/x-python",
   "name": "python",
   "nbconvert_exporter": "python",
   "pygments_lexer": "ipython3",
   "version": "3.6.1"
  }
 },
 "nbformat": 4,
 "nbformat_minor": 2
}
